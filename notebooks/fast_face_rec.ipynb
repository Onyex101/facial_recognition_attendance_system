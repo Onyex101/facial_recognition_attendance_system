{
 "cells": [
  {
   "cell_type": "code",
   "execution_count": 1,
   "id": "418d3a12",
   "metadata": {},
   "outputs": [],
   "source": [
    "import os\n",
    "import cv2\n",
    "import numpy as np\n",
    "import pandas as pd\n",
    "import re\n",
    "\n",
    "from insightface.app import FaceAnalysis"
   ]
  },
  {
   "cell_type": "code",
   "execution_count": 2,
   "id": "b5479c03",
   "metadata": {},
   "outputs": [
    {
     "name": "stdout",
     "output_type": "stream",
     "text": [
      "Applied providers: ['CPUExecutionProvider'], with options: {'CPUExecutionProvider': {}}\n",
      "find model: insightface_model\\models\\buffalo_l\\1k3d68.onnx landmark_3d_68 ['None', 3, 192, 192] 0.0 1.0\n",
      "Applied providers: ['CPUExecutionProvider'], with options: {'CPUExecutionProvider': {}}\n",
      "find model: insightface_model\\models\\buffalo_l\\2d106det.onnx landmark_2d_106 ['None', 3, 192, 192] 0.0 1.0\n",
      "Applied providers: ['CPUExecutionProvider'], with options: {'CPUExecutionProvider': {}}\n",
      "find model: insightface_model\\models\\buffalo_l\\det_10g.onnx detection [1, 3, '?', '?'] 127.5 128.0\n",
      "Applied providers: ['CPUExecutionProvider'], with options: {'CPUExecutionProvider': {}}\n",
      "find model: insightface_model\\models\\buffalo_l\\genderage.onnx genderage ['None', 3, 96, 96] 0.0 1.0\n",
      "Applied providers: ['CPUExecutionProvider'], with options: {'CPUExecutionProvider': {}}\n",
      "find model: insightface_model\\models\\buffalo_l\\w600k_r50.onnx recognition ['None', 3, 112, 112] 127.5 127.5\n",
      "set det-size: (640, 640)\n"
     ]
    }
   ],
   "source": [
    "# Configure face analysis\n",
    "faceapp = FaceAnalysis(name=\"buffalo_l\",\n",
    "                     root=\"insightface_model\",\n",
    "                    providers=['CPUExecutionProvider'])\n",
    "faceapp.prepare(ctx_id=0, det_size=(640, 640), det_thresh=0.5)"
   ]
  },
  {
   "cell_type": "code",
   "execution_count": 3,
   "id": "de86afe7",
   "metadata": {},
   "outputs": [],
   "source": [
    "def clean_name(string):\n",
    "    # remove all special characters\n",
    "    return re.sub(r'[^A-Za-z]',' ',string).title()"
   ]
  },
  {
   "cell_type": "code",
   "execution_count": 4,
   "id": "4d2a29b6",
   "metadata": {},
   "outputs": [
    {
     "name": "stderr",
     "output_type": "stream",
     "text": [
      "c:\\Users\\onyek\\Documents\\PROJECTS\\face_rec_attendance_system\\.venv\\lib\\site-packages\\insightface\\utils\\transform.py:68: FutureWarning: `rcond` parameter will change to the default of machine precision times ``max(M, N)`` where M and N are the input matrix dimensions.\n",
      "To use the future default and silence this warning we advise to pass `rcond=None`, to keep using the old, explicitly pass `rcond=-1`.\n",
      "  P = np.linalg.lstsq(X_homo, Y)[0].T # Affine matrix. 3 x 4\n"
     ]
    }
   ],
   "source": [
    "## Extract facial features and labels\n",
    "person_info = []\n",
    "listdir = os.listdir(path=\"images\")\n",
    "for folder_name in listdir:\n",
    "    role, name = folder_name.split(\"-\")\n",
    "    name = clean_name(name)\n",
    "    role = clean_name(role)\n",
    "    # path of each image in respective folder\n",
    "    img_files = os.listdir(path=f\"images/{folder_name}\")\n",
    "    for file in img_files:\n",
    "        path = f\"./images/{folder_name}/{file}\"\n",
    "        # read the image\n",
    "        img_arr = cv2.imread(path)\n",
    "        # get facial analysis info\n",
    "        result = faceapp.get(img_arr,max_num=1)\n",
    "        if len(result) > 0:\n",
    "            # extract facial embeddings\n",
    "            res = result[0]\n",
    "            embedding = res['embedding']\n",
    "            # save all info like name, role, # extract facial embeddings in a list\n",
    "            person_info.append([name,role,embedding])"
   ]
  },
  {
   "cell_type": "code",
   "execution_count": 5,
   "id": "b7ee29e1",
   "metadata": {},
   "outputs": [
    {
     "data": {
      "text/html": [
       "<div>\n",
       "<style scoped>\n",
       "    .dataframe tbody tr th:only-of-type {\n",
       "        vertical-align: middle;\n",
       "    }\n",
       "\n",
       "    .dataframe tbody tr th {\n",
       "        vertical-align: top;\n",
       "    }\n",
       "\n",
       "    .dataframe thead th {\n",
       "        text-align: right;\n",
       "    }\n",
       "</style>\n",
       "<table border=\"1\" class=\"dataframe\">\n",
       "  <thead>\n",
       "    <tr style=\"text-align: right;\">\n",
       "      <th></th>\n",
       "      <th>name</th>\n",
       "      <th>role</th>\n",
       "      <th>facial_features</th>\n",
       "    </tr>\n",
       "  </thead>\n",
       "  <tbody>\n",
       "    <tr>\n",
       "      <th>0</th>\n",
       "      <td>Angelina Jolie</td>\n",
       "      <td>Student</td>\n",
       "      <td>[0.078243345, 1.9015106, -0.023396477, -0.9335...</td>\n",
       "    </tr>\n",
       "    <tr>\n",
       "      <th>1</th>\n",
       "      <td>Angelina Jolie</td>\n",
       "      <td>Student</td>\n",
       "      <td>[0.23105192, 0.97989666, -0.7245345, -0.320673...</td>\n",
       "    </tr>\n",
       "    <tr>\n",
       "      <th>2</th>\n",
       "      <td>Angelina Jolie</td>\n",
       "      <td>Student</td>\n",
       "      <td>[0.07103489, 2.1639588, -0.34098446, -0.747323...</td>\n",
       "    </tr>\n",
       "    <tr>\n",
       "      <th>3</th>\n",
       "      <td>Angelina Jolie</td>\n",
       "      <td>Student</td>\n",
       "      <td>[0.48551857, 2.1145895, 0.44635534, -0.6645850...</td>\n",
       "    </tr>\n",
       "    <tr>\n",
       "      <th>4</th>\n",
       "      <td>Angelina Jolie</td>\n",
       "      <td>Student</td>\n",
       "      <td>[-0.088235155, 1.5141311, -0.18750492, -1.3423...</td>\n",
       "    </tr>\n",
       "    <tr>\n",
       "      <th>5</th>\n",
       "      <td>Angelina Jolie</td>\n",
       "      <td>Student</td>\n",
       "      <td>[-0.54578054, 1.5319035, -0.12923726, -1.15202...</td>\n",
       "    </tr>\n",
       "    <tr>\n",
       "      <th>6</th>\n",
       "      <td>Angelina Jolie</td>\n",
       "      <td>Student</td>\n",
       "      <td>[0.9446981, 1.6263458, -0.25197563, -1.4123578...</td>\n",
       "    </tr>\n",
       "    <tr>\n",
       "      <th>7</th>\n",
       "      <td>Angelina Jolie</td>\n",
       "      <td>Student</td>\n",
       "      <td>[0.42334646, 0.3340376, 0.120368496, 0.0760046...</td>\n",
       "    </tr>\n",
       "    <tr>\n",
       "      <th>8</th>\n",
       "      <td>Angelina Jolie</td>\n",
       "      <td>Student</td>\n",
       "      <td>[-0.36375725, 1.3726236, 0.06761655, -0.857598...</td>\n",
       "    </tr>\n",
       "    <tr>\n",
       "      <th>9</th>\n",
       "      <td>Angelina Jolie</td>\n",
       "      <td>Student</td>\n",
       "      <td>[0.75207204, 1.2098383, 0.04370375, -1.4506807...</td>\n",
       "    </tr>\n",
       "    <tr>\n",
       "      <th>10</th>\n",
       "      <td>Chris Evans</td>\n",
       "      <td>Student</td>\n",
       "      <td>[0.17546424, -0.48385864, 0.17103326, -0.75548...</td>\n",
       "    </tr>\n",
       "    <tr>\n",
       "      <th>11</th>\n",
       "      <td>Chris Evans</td>\n",
       "      <td>Student</td>\n",
       "      <td>[0.5479647, -0.48530024, -0.032835156, -0.7946...</td>\n",
       "    </tr>\n",
       "    <tr>\n",
       "      <th>12</th>\n",
       "      <td>Chris Evans</td>\n",
       "      <td>Student</td>\n",
       "      <td>[0.10548751, -0.16437523, -0.2304773, 0.271033...</td>\n",
       "    </tr>\n",
       "    <tr>\n",
       "      <th>13</th>\n",
       "      <td>Chris Evans</td>\n",
       "      <td>Student</td>\n",
       "      <td>[0.6815565, -1.1781244, 0.34811825, 0.2456621,...</td>\n",
       "    </tr>\n",
       "    <tr>\n",
       "      <th>14</th>\n",
       "      <td>Chris Evans</td>\n",
       "      <td>Student</td>\n",
       "      <td>[0.36514494, 0.47266608, 0.06029269, 0.6726044...</td>\n",
       "    </tr>\n",
       "    <tr>\n",
       "      <th>15</th>\n",
       "      <td>Chris Evans</td>\n",
       "      <td>Student</td>\n",
       "      <td>[0.5351336, -0.30261666, -0.5456394, 0.2070497...</td>\n",
       "    </tr>\n",
       "    <tr>\n",
       "      <th>16</th>\n",
       "      <td>Chris Evans</td>\n",
       "      <td>Student</td>\n",
       "      <td>[0.3314998, -0.76128393, 1.043728, 0.41133124,...</td>\n",
       "    </tr>\n",
       "    <tr>\n",
       "      <th>17</th>\n",
       "      <td>Chris Evans</td>\n",
       "      <td>Student</td>\n",
       "      <td>[-0.07250492, -0.5728061, 0.19876847, 0.478412...</td>\n",
       "    </tr>\n",
       "    <tr>\n",
       "      <th>18</th>\n",
       "      <td>Chris Evans</td>\n",
       "      <td>Student</td>\n",
       "      <td>[0.53895646, -0.40241718, 0.26830533, -1.25500...</td>\n",
       "    </tr>\n",
       "    <tr>\n",
       "      <th>19</th>\n",
       "      <td>Chris Evans</td>\n",
       "      <td>Student</td>\n",
       "      <td>[0.36040103, -0.27098808, -0.88911, -1.0246336...</td>\n",
       "    </tr>\n",
       "    <tr>\n",
       "      <th>20</th>\n",
       "      <td>Scarlett Johansson</td>\n",
       "      <td>Student</td>\n",
       "      <td>[-0.9169004, -1.0051643, -0.87948376, -0.00994...</td>\n",
       "    </tr>\n",
       "    <tr>\n",
       "      <th>21</th>\n",
       "      <td>Scarlett Johansson</td>\n",
       "      <td>Student</td>\n",
       "      <td>[-0.16691795, -0.3369558, -0.25628823, -0.9240...</td>\n",
       "    </tr>\n",
       "    <tr>\n",
       "      <th>22</th>\n",
       "      <td>Scarlett Johansson</td>\n",
       "      <td>Student</td>\n",
       "      <td>[-0.49331763, -0.19492634, -0.19144455, -0.751...</td>\n",
       "    </tr>\n",
       "    <tr>\n",
       "      <th>23</th>\n",
       "      <td>Scarlett Johansson</td>\n",
       "      <td>Student</td>\n",
       "      <td>[-0.81095517, -0.7164024, -0.6221413, -0.05294...</td>\n",
       "    </tr>\n",
       "    <tr>\n",
       "      <th>24</th>\n",
       "      <td>Scarlett Johansson</td>\n",
       "      <td>Student</td>\n",
       "      <td>[-0.06889755, -0.67759156, 0.5657508, 0.206605...</td>\n",
       "    </tr>\n",
       "    <tr>\n",
       "      <th>25</th>\n",
       "      <td>Scarlett Johansson</td>\n",
       "      <td>Student</td>\n",
       "      <td>[-0.33092552, 0.018036082, -0.15115541, -0.568...</td>\n",
       "    </tr>\n",
       "    <tr>\n",
       "      <th>26</th>\n",
       "      <td>Scarlett Johansson</td>\n",
       "      <td>Student</td>\n",
       "      <td>[0.49263698, 0.9652816, -0.7057422, -0.4806645...</td>\n",
       "    </tr>\n",
       "    <tr>\n",
       "      <th>27</th>\n",
       "      <td>Scarlett Johansson</td>\n",
       "      <td>Student</td>\n",
       "      <td>[0.46087706, -0.57342035, -0.5978824, -0.14152...</td>\n",
       "    </tr>\n",
       "    <tr>\n",
       "      <th>28</th>\n",
       "      <td>Scarlett Johansson</td>\n",
       "      <td>Student</td>\n",
       "      <td>[0.439748, 0.3899547, -0.849503, -0.40784714, ...</td>\n",
       "    </tr>\n",
       "    <tr>\n",
       "      <th>29</th>\n",
       "      <td>Scarlett Johansson</td>\n",
       "      <td>Student</td>\n",
       "      <td>[0.041052923, -0.690196, -0.5821961, 0.3060019...</td>\n",
       "    </tr>\n",
       "    <tr>\n",
       "      <th>30</th>\n",
       "      <td>Barack Obama</td>\n",
       "      <td>Teacher</td>\n",
       "      <td>[0.1016774, 0.8720591, 0.08207826, 0.8662397, ...</td>\n",
       "    </tr>\n",
       "    <tr>\n",
       "      <th>31</th>\n",
       "      <td>Barack Obama</td>\n",
       "      <td>Teacher</td>\n",
       "      <td>[0.24285895, 0.7583823, -0.6240388, -0.5684071...</td>\n",
       "    </tr>\n",
       "    <tr>\n",
       "      <th>32</th>\n",
       "      <td>Barack Obama</td>\n",
       "      <td>Teacher</td>\n",
       "      <td>[-0.12567328, 1.6009421, -0.43487042, 1.006211...</td>\n",
       "    </tr>\n",
       "    <tr>\n",
       "      <th>33</th>\n",
       "      <td>Barack Obama</td>\n",
       "      <td>Teacher</td>\n",
       "      <td>[-0.7575388, 2.3577375, -0.493024, -0.32469615...</td>\n",
       "    </tr>\n",
       "    <tr>\n",
       "      <th>34</th>\n",
       "      <td>Barack Obama</td>\n",
       "      <td>Teacher</td>\n",
       "      <td>[-0.758451, 1.1462103, -0.21329314, -0.0577179...</td>\n",
       "    </tr>\n",
       "    <tr>\n",
       "      <th>35</th>\n",
       "      <td>Barack Obama</td>\n",
       "      <td>Teacher</td>\n",
       "      <td>[-0.4176211, 1.229984, -0.4283576, -0.13104977...</td>\n",
       "    </tr>\n",
       "    <tr>\n",
       "      <th>36</th>\n",
       "      <td>Barack Obama</td>\n",
       "      <td>Teacher</td>\n",
       "      <td>[0.27879432, 2.276472, -0.51386917, 0.49702618...</td>\n",
       "    </tr>\n",
       "    <tr>\n",
       "      <th>37</th>\n",
       "      <td>Barack Obama</td>\n",
       "      <td>Teacher</td>\n",
       "      <td>[-0.4397116, 1.5171833, -1.0445609, -0.5529671...</td>\n",
       "    </tr>\n",
       "    <tr>\n",
       "      <th>38</th>\n",
       "      <td>Barack Obama</td>\n",
       "      <td>Teacher</td>\n",
       "      <td>[-0.091228485, 1.5971277, -0.5157969, 0.374730...</td>\n",
       "    </tr>\n",
       "    <tr>\n",
       "      <th>39</th>\n",
       "      <td>Barack Obama</td>\n",
       "      <td>Teacher</td>\n",
       "      <td>[-0.2508882, 2.40607, -0.8450472, 0.2507564, -...</td>\n",
       "    </tr>\n",
       "    <tr>\n",
       "      <th>40</th>\n",
       "      <td>Morgan Freeman</td>\n",
       "      <td>Teacher</td>\n",
       "      <td>[0.9970491, 0.61109877, 0.030448198, 0.3545035...</td>\n",
       "    </tr>\n",
       "    <tr>\n",
       "      <th>41</th>\n",
       "      <td>Morgan Freeman</td>\n",
       "      <td>Teacher</td>\n",
       "      <td>[-0.11742199, 0.5405154, 0.30139026, 0.6799727...</td>\n",
       "    </tr>\n",
       "    <tr>\n",
       "      <th>42</th>\n",
       "      <td>Morgan Freeman</td>\n",
       "      <td>Teacher</td>\n",
       "      <td>[0.6998305, 1.3386474, 1.5333607, 0.38829413, ...</td>\n",
       "    </tr>\n",
       "    <tr>\n",
       "      <th>43</th>\n",
       "      <td>Morgan Freeman</td>\n",
       "      <td>Teacher</td>\n",
       "      <td>[0.5746258, 0.9972688, -0.41483033, 0.25406286...</td>\n",
       "    </tr>\n",
       "    <tr>\n",
       "      <th>44</th>\n",
       "      <td>Morgan Freeman</td>\n",
       "      <td>Teacher</td>\n",
       "      <td>[1.594884, 0.5433186, -0.20814964, 0.4957266, ...</td>\n",
       "    </tr>\n",
       "    <tr>\n",
       "      <th>45</th>\n",
       "      <td>Morgan Freeman</td>\n",
       "      <td>Teacher</td>\n",
       "      <td>[1.2069126, 1.3613169, 1.0009974, 0.9768005, -...</td>\n",
       "    </tr>\n",
       "    <tr>\n",
       "      <th>46</th>\n",
       "      <td>Morgan Freeman</td>\n",
       "      <td>Teacher</td>\n",
       "      <td>[0.6258965, 0.818104, 0.89539903, 0.4834145, -...</td>\n",
       "    </tr>\n",
       "    <tr>\n",
       "      <th>47</th>\n",
       "      <td>Morgan Freeman</td>\n",
       "      <td>Teacher</td>\n",
       "      <td>[0.33638734, 1.079098, 0.17542839, -0.28730667...</td>\n",
       "    </tr>\n",
       "    <tr>\n",
       "      <th>48</th>\n",
       "      <td>Morgan Freeman</td>\n",
       "      <td>Teacher</td>\n",
       "      <td>[0.7567491, 0.5651344, 0.3000065, -0.77725124,...</td>\n",
       "    </tr>\n",
       "    <tr>\n",
       "      <th>49</th>\n",
       "      <td>Morgan Freeman</td>\n",
       "      <td>Teacher</td>\n",
       "      <td>[0.9529804, 1.051647, 1.0733047, 0.021591356, ...</td>\n",
       "    </tr>\n",
       "  </tbody>\n",
       "</table>\n",
       "</div>"
      ],
      "text/plain": [
       "                  name     role   \n",
       "0       Angelina Jolie  Student  \\\n",
       "1       Angelina Jolie  Student   \n",
       "2       Angelina Jolie  Student   \n",
       "3       Angelina Jolie  Student   \n",
       "4       Angelina Jolie  Student   \n",
       "5       Angelina Jolie  Student   \n",
       "6       Angelina Jolie  Student   \n",
       "7       Angelina Jolie  Student   \n",
       "8       Angelina Jolie  Student   \n",
       "9       Angelina Jolie  Student   \n",
       "10         Chris Evans  Student   \n",
       "11         Chris Evans  Student   \n",
       "12         Chris Evans  Student   \n",
       "13         Chris Evans  Student   \n",
       "14         Chris Evans  Student   \n",
       "15         Chris Evans  Student   \n",
       "16         Chris Evans  Student   \n",
       "17         Chris Evans  Student   \n",
       "18         Chris Evans  Student   \n",
       "19         Chris Evans  Student   \n",
       "20  Scarlett Johansson  Student   \n",
       "21  Scarlett Johansson  Student   \n",
       "22  Scarlett Johansson  Student   \n",
       "23  Scarlett Johansson  Student   \n",
       "24  Scarlett Johansson  Student   \n",
       "25  Scarlett Johansson  Student   \n",
       "26  Scarlett Johansson  Student   \n",
       "27  Scarlett Johansson  Student   \n",
       "28  Scarlett Johansson  Student   \n",
       "29  Scarlett Johansson  Student   \n",
       "30        Barack Obama  Teacher   \n",
       "31        Barack Obama  Teacher   \n",
       "32        Barack Obama  Teacher   \n",
       "33        Barack Obama  Teacher   \n",
       "34        Barack Obama  Teacher   \n",
       "35        Barack Obama  Teacher   \n",
       "36        Barack Obama  Teacher   \n",
       "37        Barack Obama  Teacher   \n",
       "38        Barack Obama  Teacher   \n",
       "39        Barack Obama  Teacher   \n",
       "40      Morgan Freeman  Teacher   \n",
       "41      Morgan Freeman  Teacher   \n",
       "42      Morgan Freeman  Teacher   \n",
       "43      Morgan Freeman  Teacher   \n",
       "44      Morgan Freeman  Teacher   \n",
       "45      Morgan Freeman  Teacher   \n",
       "46      Morgan Freeman  Teacher   \n",
       "47      Morgan Freeman  Teacher   \n",
       "48      Morgan Freeman  Teacher   \n",
       "49      Morgan Freeman  Teacher   \n",
       "\n",
       "                                      facial_features  \n",
       "0   [0.078243345, 1.9015106, -0.023396477, -0.9335...  \n",
       "1   [0.23105192, 0.97989666, -0.7245345, -0.320673...  \n",
       "2   [0.07103489, 2.1639588, -0.34098446, -0.747323...  \n",
       "3   [0.48551857, 2.1145895, 0.44635534, -0.6645850...  \n",
       "4   [-0.088235155, 1.5141311, -0.18750492, -1.3423...  \n",
       "5   [-0.54578054, 1.5319035, -0.12923726, -1.15202...  \n",
       "6   [0.9446981, 1.6263458, -0.25197563, -1.4123578...  \n",
       "7   [0.42334646, 0.3340376, 0.120368496, 0.0760046...  \n",
       "8   [-0.36375725, 1.3726236, 0.06761655, -0.857598...  \n",
       "9   [0.75207204, 1.2098383, 0.04370375, -1.4506807...  \n",
       "10  [0.17546424, -0.48385864, 0.17103326, -0.75548...  \n",
       "11  [0.5479647, -0.48530024, -0.032835156, -0.7946...  \n",
       "12  [0.10548751, -0.16437523, -0.2304773, 0.271033...  \n",
       "13  [0.6815565, -1.1781244, 0.34811825, 0.2456621,...  \n",
       "14  [0.36514494, 0.47266608, 0.06029269, 0.6726044...  \n",
       "15  [0.5351336, -0.30261666, -0.5456394, 0.2070497...  \n",
       "16  [0.3314998, -0.76128393, 1.043728, 0.41133124,...  \n",
       "17  [-0.07250492, -0.5728061, 0.19876847, 0.478412...  \n",
       "18  [0.53895646, -0.40241718, 0.26830533, -1.25500...  \n",
       "19  [0.36040103, -0.27098808, -0.88911, -1.0246336...  \n",
       "20  [-0.9169004, -1.0051643, -0.87948376, -0.00994...  \n",
       "21  [-0.16691795, -0.3369558, -0.25628823, -0.9240...  \n",
       "22  [-0.49331763, -0.19492634, -0.19144455, -0.751...  \n",
       "23  [-0.81095517, -0.7164024, -0.6221413, -0.05294...  \n",
       "24  [-0.06889755, -0.67759156, 0.5657508, 0.206605...  \n",
       "25  [-0.33092552, 0.018036082, -0.15115541, -0.568...  \n",
       "26  [0.49263698, 0.9652816, -0.7057422, -0.4806645...  \n",
       "27  [0.46087706, -0.57342035, -0.5978824, -0.14152...  \n",
       "28  [0.439748, 0.3899547, -0.849503, -0.40784714, ...  \n",
       "29  [0.041052923, -0.690196, -0.5821961, 0.3060019...  \n",
       "30  [0.1016774, 0.8720591, 0.08207826, 0.8662397, ...  \n",
       "31  [0.24285895, 0.7583823, -0.6240388, -0.5684071...  \n",
       "32  [-0.12567328, 1.6009421, -0.43487042, 1.006211...  \n",
       "33  [-0.7575388, 2.3577375, -0.493024, -0.32469615...  \n",
       "34  [-0.758451, 1.1462103, -0.21329314, -0.0577179...  \n",
       "35  [-0.4176211, 1.229984, -0.4283576, -0.13104977...  \n",
       "36  [0.27879432, 2.276472, -0.51386917, 0.49702618...  \n",
       "37  [-0.4397116, 1.5171833, -1.0445609, -0.5529671...  \n",
       "38  [-0.091228485, 1.5971277, -0.5157969, 0.374730...  \n",
       "39  [-0.2508882, 2.40607, -0.8450472, 0.2507564, -...  \n",
       "40  [0.9970491, 0.61109877, 0.030448198, 0.3545035...  \n",
       "41  [-0.11742199, 0.5405154, 0.30139026, 0.6799727...  \n",
       "42  [0.6998305, 1.3386474, 1.5333607, 0.38829413, ...  \n",
       "43  [0.5746258, 0.9972688, -0.41483033, 0.25406286...  \n",
       "44  [1.594884, 0.5433186, -0.20814964, 0.4957266, ...  \n",
       "45  [1.2069126, 1.3613169, 1.0009974, 0.9768005, -...  \n",
       "46  [0.6258965, 0.818104, 0.89539903, 0.4834145, -...  \n",
       "47  [0.33638734, 1.079098, 0.17542839, -0.28730667...  \n",
       "48  [0.7567491, 0.5651344, 0.3000065, -0.77725124,...  \n",
       "49  [0.9529804, 1.051647, 1.0733047, 0.021591356, ...  "
      ]
     },
     "execution_count": 5,
     "metadata": {},
     "output_type": "execute_result"
    }
   ],
   "source": [
    "df = pd.DataFrame(person_info,columns=['name','role','facial_features'])\n",
    "df"
   ]
  },
  {
   "cell_type": "markdown",
   "id": "bec12a1c",
   "metadata": {},
   "source": [
    "## Inference"
   ]
  },
  {
   "cell_type": "markdown",
   "id": "3f98e645",
   "metadata": {},
   "source": [
    "### read image"
   ]
  },
  {
   "cell_type": "code",
   "execution_count": 7,
   "id": "4cca801c",
   "metadata": {},
   "outputs": [],
   "source": [
    "# read test image\n",
    "img_test = cv2.imread(\"test_images/test_2.jpeg\")\n",
    "cv2.imshow('test image',img_test)\n",
    "cv2.waitKey(0)\n",
    "cv2.destroyAllWindows()"
   ]
  },
  {
   "cell_type": "markdown",
   "id": "e57e70bc",
   "metadata": {},
   "source": [
    "### extract feature"
   ]
  },
  {
   "cell_type": "code",
   "execution_count": 11,
   "id": "a219072e",
   "metadata": {},
   "outputs": [
    {
     "name": "stdout",
     "output_type": "stream",
     "text": [
      "current loop= 0\n"
     ]
    }
   ],
   "source": [
    "res_test = faceapp.get(img_test,max_num=0)\n",
    "for i,rt in enumerate(res_test):\n",
    "    print(f\"current loop: {i}\")\n",
    "    bbox = rt['bbox'].astype(int)\n",
    "    score = int(rt['det_score']*100)\n",
    "    embed_test = rt['embedding']"
   ]
  },
  {
   "cell_type": "code",
   "execution_count": 12,
   "id": "15806ca1",
   "metadata": {},
   "outputs": [
    {
     "data": {
      "text/plain": [
       "512"
      ]
     },
     "execution_count": 12,
     "metadata": {},
     "output_type": "execute_result"
    }
   ],
   "source": [
    "# consider only one sample\n",
    "len(embed_test)"
   ]
  },
  {
   "cell_type": "code",
   "execution_count": 13,
   "id": "e1c018e8",
   "metadata": {},
   "outputs": [
    {
     "data": {
      "text/html": [
       "<div>\n",
       "<style scoped>\n",
       "    .dataframe tbody tr th:only-of-type {\n",
       "        vertical-align: middle;\n",
       "    }\n",
       "\n",
       "    .dataframe tbody tr th {\n",
       "        vertical-align: top;\n",
       "    }\n",
       "\n",
       "    .dataframe thead th {\n",
       "        text-align: right;\n",
       "    }\n",
       "</style>\n",
       "<table border=\"1\" class=\"dataframe\">\n",
       "  <thead>\n",
       "    <tr style=\"text-align: right;\">\n",
       "      <th></th>\n",
       "      <th>name</th>\n",
       "      <th>role</th>\n",
       "      <th>facial_features</th>\n",
       "    </tr>\n",
       "  </thead>\n",
       "  <tbody>\n",
       "    <tr>\n",
       "      <th>0</th>\n",
       "      <td>Angelina Jolie</td>\n",
       "      <td>Student</td>\n",
       "      <td>[0.078243345, 1.9015106, -0.023396477, -0.9335...</td>\n",
       "    </tr>\n",
       "    <tr>\n",
       "      <th>1</th>\n",
       "      <td>Angelina Jolie</td>\n",
       "      <td>Student</td>\n",
       "      <td>[0.23105192, 0.97989666, -0.7245345, -0.320673...</td>\n",
       "    </tr>\n",
       "    <tr>\n",
       "      <th>2</th>\n",
       "      <td>Angelina Jolie</td>\n",
       "      <td>Student</td>\n",
       "      <td>[0.07103489, 2.1639588, -0.34098446, -0.747323...</td>\n",
       "    </tr>\n",
       "    <tr>\n",
       "      <th>3</th>\n",
       "      <td>Angelina Jolie</td>\n",
       "      <td>Student</td>\n",
       "      <td>[0.48551857, 2.1145895, 0.44635534, -0.6645850...</td>\n",
       "    </tr>\n",
       "    <tr>\n",
       "      <th>4</th>\n",
       "      <td>Angelina Jolie</td>\n",
       "      <td>Student</td>\n",
       "      <td>[-0.088235155, 1.5141311, -0.18750492, -1.3423...</td>\n",
       "    </tr>\n",
       "  </tbody>\n",
       "</table>\n",
       "</div>"
      ],
      "text/plain": [
       "             name     role                                    facial_features\n",
       "0  Angelina Jolie  Student  [0.078243345, 1.9015106, -0.023396477, -0.9335...\n",
       "1  Angelina Jolie  Student  [0.23105192, 0.97989666, -0.7245345, -0.320673...\n",
       "2  Angelina Jolie  Student  [0.07103489, 2.1639588, -0.34098446, -0.747323...\n",
       "3  Angelina Jolie  Student  [0.48551857, 2.1145895, 0.44635534, -0.6645850...\n",
       "4  Angelina Jolie  Student  [-0.088235155, 1.5141311, -0.18750492, -1.3423..."
      ]
     },
     "execution_count": 13,
     "metadata": {},
     "output_type": "execute_result"
    }
   ],
   "source": [
    "df.head()"
   ]
  },
  {
   "cell_type": "code",
   "execution_count": 15,
   "id": "eed03ef4",
   "metadata": {},
   "outputs": [],
   "source": [
    "X_list = df['facial_features'].tolist()\n",
    "X = np.asarray(X_list)"
   ]
  },
  {
   "cell_type": "code",
   "execution_count": 16,
   "id": "ee1c3e44",
   "metadata": {},
   "outputs": [
    {
     "data": {
      "text/plain": [
       "(50, 512)"
      ]
     },
     "execution_count": 16,
     "metadata": {},
     "output_type": "execute_result"
    }
   ],
   "source": [
    "X.shape"
   ]
  },
  {
   "cell_type": "code",
   "execution_count": 17,
   "id": "bc1db294",
   "metadata": {},
   "outputs": [],
   "source": [
    "from sklearn.metrics import pairwise"
   ]
  },
  {
   "cell_type": "code",
   "execution_count": 19,
   "id": "74997627",
   "metadata": {},
   "outputs": [
    {
     "data": {
      "text/plain": [
       "(512,)"
      ]
     },
     "execution_count": 19,
     "metadata": {},
     "output_type": "execute_result"
    }
   ],
   "source": [
    "embed_test.shape"
   ]
  },
  {
   "cell_type": "code",
   "execution_count": 21,
   "id": "2e254f69",
   "metadata": {},
   "outputs": [
    {
     "data": {
      "text/plain": [
       "(1, 512)"
      ]
     },
     "execution_count": 21,
     "metadata": {},
     "output_type": "execute_result"
    }
   ],
   "source": [
    "embed_test.reshape(1,-1).shape"
   ]
  },
  {
   "cell_type": "code",
   "execution_count": 22,
   "id": "fe640713",
   "metadata": {},
   "outputs": [],
   "source": [
    "y = embed_test.reshape(1,-1)\n",
    "\n",
    "euclidean_distance = pairwise.euclidean_distances(X,y)\n",
    "manhattan_distance = pairwise.manhattan_distances(X,y)\n",
    "cosine_similarity = pairwise.cosine_similarity(X,y)"
   ]
  },
  {
   "cell_type": "code",
   "execution_count": 26,
   "id": "87c0f604",
   "metadata": {},
   "outputs": [],
   "source": [
    "data_search = df.copy()\n",
    "data_search['euclidean_distance'] = euclidean_distance\n",
    "data_search['manhattan_distance'] = manhattan_distance\n",
    "data_search['cosine_similarity'] = cosine_similarity"
   ]
  },
  {
   "cell_type": "code",
   "execution_count": 27,
   "id": "0081870f",
   "metadata": {},
   "outputs": [
    {
     "data": {
      "text/html": [
       "<div>\n",
       "<style scoped>\n",
       "    .dataframe tbody tr th:only-of-type {\n",
       "        vertical-align: middle;\n",
       "    }\n",
       "\n",
       "    .dataframe tbody tr th {\n",
       "        vertical-align: top;\n",
       "    }\n",
       "\n",
       "    .dataframe thead th {\n",
       "        text-align: right;\n",
       "    }\n",
       "</style>\n",
       "<table border=\"1\" class=\"dataframe\">\n",
       "  <thead>\n",
       "    <tr style=\"text-align: right;\">\n",
       "      <th></th>\n",
       "      <th>name</th>\n",
       "      <th>role</th>\n",
       "      <th>facial_features</th>\n",
       "      <th>euclidean_distance</th>\n",
       "      <th>manhattan_distance</th>\n",
       "      <th>cosine_similarity</th>\n",
       "    </tr>\n",
       "  </thead>\n",
       "  <tbody>\n",
       "    <tr>\n",
       "      <th>0</th>\n",
       "      <td>Angelina Jolie</td>\n",
       "      <td>Student</td>\n",
       "      <td>[0.078243345, 1.9015106, -0.023396477, -0.9335...</td>\n",
       "      <td>29.976627</td>\n",
       "      <td>536.054703</td>\n",
       "      <td>-0.004487</td>\n",
       "    </tr>\n",
       "    <tr>\n",
       "      <th>1</th>\n",
       "      <td>Angelina Jolie</td>\n",
       "      <td>Student</td>\n",
       "      <td>[0.23105192, 0.97989666, -0.7245345, -0.320673...</td>\n",
       "      <td>29.810110</td>\n",
       "      <td>543.882132</td>\n",
       "      <td>0.013862</td>\n",
       "    </tr>\n",
       "    <tr>\n",
       "      <th>2</th>\n",
       "      <td>Angelina Jolie</td>\n",
       "      <td>Student</td>\n",
       "      <td>[0.07103489, 2.1639588, -0.34098446, -0.747323...</td>\n",
       "      <td>28.812088</td>\n",
       "      <td>512.476758</td>\n",
       "      <td>0.025873</td>\n",
       "    </tr>\n",
       "    <tr>\n",
       "      <th>3</th>\n",
       "      <td>Angelina Jolie</td>\n",
       "      <td>Student</td>\n",
       "      <td>[0.48551857, 2.1145895, 0.44635534, -0.6645850...</td>\n",
       "      <td>29.295269</td>\n",
       "      <td>530.584236</td>\n",
       "      <td>0.031181</td>\n",
       "    </tr>\n",
       "    <tr>\n",
       "      <th>4</th>\n",
       "      <td>Angelina Jolie</td>\n",
       "      <td>Student</td>\n",
       "      <td>[-0.088235155, 1.5141311, -0.18750492, -1.3423...</td>\n",
       "      <td>28.864431</td>\n",
       "      <td>516.796404</td>\n",
       "      <td>0.021957</td>\n",
       "    </tr>\n",
       "  </tbody>\n",
       "</table>\n",
       "</div>"
      ],
      "text/plain": [
       "             name     role                                    facial_features   \n",
       "0  Angelina Jolie  Student  [0.078243345, 1.9015106, -0.023396477, -0.9335...  \\\n",
       "1  Angelina Jolie  Student  [0.23105192, 0.97989666, -0.7245345, -0.320673...   \n",
       "2  Angelina Jolie  Student  [0.07103489, 2.1639588, -0.34098446, -0.747323...   \n",
       "3  Angelina Jolie  Student  [0.48551857, 2.1145895, 0.44635534, -0.6645850...   \n",
       "4  Angelina Jolie  Student  [-0.088235155, 1.5141311, -0.18750492, -1.3423...   \n",
       "\n",
       "   euclidean_distance  manhattan_distance  cosine_similarity  \n",
       "0           29.976627          536.054703          -0.004487  \n",
       "1           29.810110          543.882132           0.013862  \n",
       "2           28.812088          512.476758           0.025873  \n",
       "3           29.295269          530.584236           0.031181  \n",
       "4           28.864431          516.796404           0.021957  "
      ]
     },
     "execution_count": 27,
     "metadata": {},
     "output_type": "execute_result"
    }
   ],
   "source": [
    "data_search.head()"
   ]
  },
  {
   "cell_type": "code",
   "execution_count": 28,
   "id": "036e6aae",
   "metadata": {},
   "outputs": [],
   "source": [
    "import matplotlib.pyplot as plt"
   ]
  },
  {
   "cell_type": "code",
   "execution_count": 35,
   "id": "307856b2",
   "metadata": {},
   "outputs": [
    {
     "data": {
      "image/png": "[encoded data removed]",
      "text/plain": [
       "<Figure size 1000x400 with 1 Axes>"
      ]
     },
     "metadata": {},
     "output_type": "display_data"
    }
   ],
   "source": [
    "plt.figure(figsize=(10,4))\n",
    "plt.plot(data_search[\"euclidean_distance\"])\n",
    "plt.xticks(ticks=list(range(len(data_search[\"euclidean_distance\"]))),\n",
    "           rotation=90,\n",
    "           labels=data_search[\"name\"])\n",
    "plt.xlabel(\"Record Number\")\n",
    "plt.ylabel(\"Euclidean\")\n",
    "plt.grid()\n",
    "plt.show()"
   ]
  },
  {
   "cell_type": "code",
   "execution_count": 36,
   "id": "85ed42d2",
   "metadata": {},
   "outputs": [
    {
     "data": {
      "image/png": "[encoded data removed]",
      "text/plain": [
       "<Figure size 1000x400 with 1 Axes>"
      ]
     },
     "metadata": {},
     "output_type": "display_data"
    }
   ],
   "source": [
    "plt.figure(figsize=(10,4))\n",
    "plt.plot(data_search[\"manhattan_distance\"])\n",
    "plt.xticks(ticks=list(range(len(data_search[\"manhattan_distance\"]))),\n",
    "           rotation=90,\n",
    "           labels=data_search[\"name\"])\n",
    "plt.xlabel(\"Record Number\")\n",
    "plt.ylabel(\"Manhattan\")\n",
    "plt.grid()\n",
    "plt.show()"
   ]
  },
  {
   "cell_type": "code",
   "execution_count": 37,
   "id": "45f7991c",
   "metadata": {},
   "outputs": [
    {
     "data": {
      "image/png": "[encoded data removed]",
      "text/plain": [
       "<Figure size 1000x400 with 1 Axes>"
      ]
     },
     "metadata": {},
     "output_type": "display_data"
    }
   ],
   "source": [
    "plt.figure(figsize=(10,4))\n",
    "plt.plot(data_search[\"cosine_similarity\"])\n",
    "plt.xticks(ticks=list(range(len(data_search[\"cosine_similarity\"]))),\n",
    "           rotation=90,\n",
    "           labels=data_search[\"name\"])\n",
    "plt.xlabel(\"Record Number\")\n",
    "plt.ylabel(\"Cosine Sim\")\n",
    "plt.grid()\n",
    "plt.show()"
   ]
  },
  {
   "cell_type": "markdown",
   "id": "28608241",
   "metadata": {},
   "source": [
    "### Identify the person name using Euclidean Distance"
   ]
  },
  {
   "cell_type": "code",
   "execution_count": 38,
   "id": "eec02166",
   "metadata": {},
   "outputs": [],
   "source": [
    "d_eq_optimal = 25"
   ]
  },
  {
   "cell_type": "code",
   "execution_count": 45,
   "id": "895f603b",
   "metadata": {},
   "outputs": [],
   "source": [
    "datafilter = data_search.query(f\"euclidean_distance < {d_eq_optimal}\")\n",
    "datafilter.reset_index(drop=True,inplace=True)\n",
    "if len(datafilter) > 0:\n",
    "    argmin = datafilter[\"euclidean_distance\"].argmin()\n",
    "    name, role = datafilter.loc[argmin][[\"name\", \"role\"]]\n",
    "else:\n",
    "    name = \"Unknown\"\n",
    "    role = \"Unknown\""
   ]
  },
  {
   "cell_type": "code",
   "execution_count": 46,
   "id": "916b5f66",
   "metadata": {},
   "outputs": [
    {
     "name": "stdout",
     "output_type": "stream",
     "text": [
      "Chris Evans Student\n"
     ]
    }
   ],
   "source": [
    "print(name, role)"
   ]
  },
  {
   "cell_type": "markdown",
   "id": "640b7cf7",
   "metadata": {},
   "source": [
    "### Identify the person name using Manhattan Distance"
   ]
  },
  {
   "cell_type": "code",
   "execution_count": 48,
   "id": "7f7e4d00",
   "metadata": {},
   "outputs": [
    {
     "name": "stdout",
     "output_type": "stream",
     "text": [
      "Chris Evans Student\n"
     ]
    }
   ],
   "source": [
    "d_man_optimal = 450\n",
    "\n",
    "datafilter = data_search.query(f\"manhattan_distance < {d_man_optimal}\")\n",
    "datafilter.reset_index(drop=True,inplace=True)\n",
    "if len(datafilter) > 0:\n",
    "    argmin = datafilter[\"manhattan_distance\"].argmin()\n",
    "    name, role = datafilter.loc[argmin][[\"name\", \"role\"]]\n",
    "else:\n",
    "    name = \"Unknown\"\n",
    "    role = \"Unknown\"\n",
    "\n",
    "print(name, role)"
   ]
  },
  {
   "cell_type": "markdown",
   "id": "32c33f9d",
   "metadata": {},
   "source": [
    "### Identify the person name using Cosine Similiarity"
   ]
  },
  {
   "cell_type": "code",
   "execution_count": 49,
   "id": "5feb6759",
   "metadata": {},
   "outputs": [
    {
     "name": "stdout",
     "output_type": "stream",
     "text": [
      "Chris Evans Student\n"
     ]
    }
   ],
   "source": [
    "S_opt = 0.5\n",
    "\n",
    "datafilter = data_search.query(f\"cosine_similarity > {S_opt}\")\n",
    "datafilter.reset_index(drop=True,inplace=True)\n",
    "if len(datafilter) > 0:\n",
    "    argmax = datafilter[\"cosine_similarity\"].argmax()\n",
    "    name, role = datafilter.loc[argmax][[\"name\", \"role\"]]\n",
    "else:\n",
    "    name = \"Unknown\"\n",
    "    role = \"Unknown\"\n",
    "\n",
    "print(name, role)"
   ]
  },
  {
   "cell_type": "markdown",
   "id": "4804fd4c",
   "metadata": {},
   "source": [
    "### Identify Multiple Persons in an Image"
   ]
  },
  {
   "cell_type": "code",
   "execution_count": 57,
   "id": "b08797c7",
   "metadata": {},
   "outputs": [],
   "source": [
    "def ml_search_algo(df,feature_col,test_vec,name_role=['name','role'],thresh=0.5):\n",
    "    \"\"\"\n",
    "    cosine similarity based search algorithm\n",
    "    \"\"\"\n",
    "    # step-1: take the dataframe (collection of data)\n",
    "    df = df.copy()\n",
    "    # step-2: Index face embedding from the datraframe and convert to array\n",
    "    X_list = df[feature_col].tolist()\n",
    "    X = np.asarray(X_list)\n",
    "    # step-3: calculate cosine similarity\n",
    "    similar = pairwise.cosine_similarity(X,test_vec.reshape(1,-1))\n",
    "    similar_arr = np.array(similar).flatten()\n",
    "    df['cosine'] = similar_arr\n",
    "    # step-4: filter the data\n",
    "    data_filter = df.query(f\"cosine >= {thresh}\")\n",
    "    if len(data_filter) > 0:\n",
    "        # step-5: get the person name\n",
    "        data_filter.reset_index(drop=True,inplace=True)\n",
    "        data_filter['cosine'].argmax()\n",
    "        person_name, person_role = data_filter.loc[argmax][name_role]\n",
    "    else:\n",
    "        person_name = 'Unknown'\n",
    "        person_role = 'Unknown'\n",
    "    return person_name, person_role"
   ]
  },
  {
   "cell_type": "code",
   "execution_count": 70,
   "id": "d316fa39",
   "metadata": {},
   "outputs": [],
   "source": [
    "# read test image\n",
    "test_image = cv2.imread(\"test_images/test_7.jpeg\")\n",
    "# cv2.imshow('test image',test_image)\n",
    "# cv2.waitKey(0)\n",
    "# cv2.destroyAllWindows()"
   ]
  },
  {
   "cell_type": "code",
   "execution_count": 71,
   "id": "ba70e673",
   "metadata": {},
   "outputs": [
    {
     "name": "stderr",
     "output_type": "stream",
     "text": [
      "c:\\Users\\onyek\\Documents\\PROJECTS\\face_rec_attendance_system\\.venv\\lib\\site-packages\\insightface\\utils\\transform.py:68: FutureWarning: `rcond` parameter will change to the default of machine precision times ``max(M, N)`` where M and N are the input matrix dimensions.\n",
      "To use the future default and silence this warning we advise to pass `rcond=None`, to keep using the old, explicitly pass `rcond=-1`.\n",
      "  P = np.linalg.lstsq(X_homo, Y)[0].T # Affine matrix. 3 x 4\n"
     ]
    }
   ],
   "source": [
    "# step-1: take the test image and apply to insight face\n",
    "results = faceapp.get(test_image,max_num=0)\n",
    "test_copy = test_image.copy()\n",
    "\n",
    "# step-2: use for loop and extract each embedding and pass to ml_search_algo\n",
    "for res in results:\n",
    "    x1,y1,x2,y2 = res['bbox'].astype(int)\n",
    "    score = int(res['det_score']*100)\n",
    "    embeddings = res['embedding']\n",
    "    person_name, person_role = ml_search_algo(df,\"facial_features\",\n",
    "                test_vec=embeddings,\n",
    "                name_role=['name','role'])\n",
    "    if person_name == 'Unknown':\n",
    "        color = (0,0,255)\n",
    "    else:\n",
    "        color = (0,255,0)\n",
    "    cv2.rectangle(test_copy,(x1,y1),(x2,y2),color)\n",
    "    cv2.putText(test_copy,person_name,(x1,y1),cv2.FONT_HERSHEY_DUPLEX,0.7,color,2)\n",
    "    \n",
    "cv2.imshow(\"test image\", test_copy)\n",
    "cv2.waitKey(0)\n",
    "cv2.destroyAllWindows()"
   ]
  },
  {
   "cell_type": "markdown",
   "id": "47c39a24",
   "metadata": {},
   "source": [
    "### Compressing Dataset"
   ]
  },
  {
   "cell_type": "code",
   "execution_count": 72,
   "id": "d6ca1c40",
   "metadata": {},
   "outputs": [
    {
     "data": {
      "text/html": [
       "<div>\n",
       "<style scoped>\n",
       "    .dataframe tbody tr th:only-of-type {\n",
       "        vertical-align: middle;\n",
       "    }\n",
       "\n",
       "    .dataframe tbody tr th {\n",
       "        vertical-align: top;\n",
       "    }\n",
       "\n",
       "    .dataframe thead th {\n",
       "        text-align: right;\n",
       "    }\n",
       "</style>\n",
       "<table border=\"1\" class=\"dataframe\">\n",
       "  <thead>\n",
       "    <tr style=\"text-align: right;\">\n",
       "      <th></th>\n",
       "      <th>name</th>\n",
       "      <th>role</th>\n",
       "      <th>facial_features</th>\n",
       "    </tr>\n",
       "  </thead>\n",
       "  <tbody>\n",
       "    <tr>\n",
       "      <th>0</th>\n",
       "      <td>Angelina Jolie</td>\n",
       "      <td>Student</td>\n",
       "      <td>[0.19881923, 1.4748836, -0.097958915, -0.88050...</td>\n",
       "    </tr>\n",
       "    <tr>\n",
       "      <th>1</th>\n",
       "      <td>Barack Obama</td>\n",
       "      <td>Teacher</td>\n",
       "      <td>[-0.22177818, 1.5762168, -0.503078, 0.13601258...</td>\n",
       "    </tr>\n",
       "    <tr>\n",
       "      <th>2</th>\n",
       "      <td>Chris Evans</td>\n",
       "      <td>Student</td>\n",
       "      <td>[0.35691038, -0.4149104, 0.039218407, -0.15436...</td>\n",
       "    </tr>\n",
       "    <tr>\n",
       "      <th>3</th>\n",
       "      <td>Morgan Freeman</td>\n",
       "      <td>Teacher</td>\n",
       "      <td>[0.7627893, 0.89061487, 0.46873552, 0.2589808,...</td>\n",
       "    </tr>\n",
       "    <tr>\n",
       "      <th>4</th>\n",
       "      <td>Scarlett Johansson</td>\n",
       "      <td>Student</td>\n",
       "      <td>[-0.13535991, -0.28213844, -0.42700863, -0.282...</td>\n",
       "    </tr>\n",
       "  </tbody>\n",
       "</table>\n",
       "</div>"
      ],
      "text/plain": [
       "                 name     role   \n",
       "0      Angelina Jolie  Student  \\\n",
       "1        Barack Obama  Teacher   \n",
       "2         Chris Evans  Student   \n",
       "3      Morgan Freeman  Teacher   \n",
       "4  Scarlett Johansson  Student   \n",
       "\n",
       "                                     facial_features  \n",
       "0  [0.19881923, 1.4748836, -0.097958915, -0.88050...  \n",
       "1  [-0.22177818, 1.5762168, -0.503078, 0.13601258...  \n",
       "2  [0.35691038, -0.4149104, 0.039218407, -0.15436...  \n",
       "3  [0.7627893, 0.89061487, 0.46873552, 0.2589808,...  \n",
       "4  [-0.13535991, -0.28213844, -0.42700863, -0.282...  "
      ]
     },
     "execution_count": 72,
     "metadata": {},
     "output_type": "execute_result"
    }
   ],
   "source": [
    "df_compress = df.groupby(by=['name','role']).mean()\n",
    "df_compress.reset_index(inplace=True)\n",
    "df_compress"
   ]
  },
  {
   "cell_type": "markdown",
   "id": "a97f0a5c",
   "metadata": {},
   "source": [
    "### Convert dataframe into array and save in numpy zip format"
   ]
  },
  {
   "cell_type": "code",
   "execution_count": 74,
   "id": "710ad8eb",
   "metadata": {},
   "outputs": [
    {
     "data": {
      "text/plain": [
       "array(['name', 'role', 'facial_features'], dtype=object)"
      ]
     },
     "execution_count": 74,
     "metadata": {},
     "output_type": "execute_result"
    }
   ],
   "source": [
    "xvalues = df_compress.values\n",
    "col_name = np.array(df_compress.columns)\n",
    "col_name"
   ]
  },
  {
   "cell_type": "code",
   "execution_count": 75,
   "id": "11bebf87",
   "metadata": {},
   "outputs": [],
   "source": [
    "np.savez('dataframe_students_teacher.npz',xvalues,col_name)"
   ]
  },
  {
   "cell_type": "code",
   "execution_count": 78,
   "id": "23ce8781",
   "metadata": {},
   "outputs": [
    {
     "data": {
      "text/plain": [
       "['arr_0', 'arr_1']"
      ]
     },
     "execution_count": 78,
     "metadata": {},
     "output_type": "execute_result"
    }
   ],
   "source": [
    "## load numpy zip\n",
    "numpy_file = np.load('dataframe_students_teacher.npz',allow_pickle=True)\n",
    "numpy_file.files"
   ]
  },
  {
   "cell_type": "code",
   "execution_count": 82,
   "id": "167602bc",
   "metadata": {},
   "outputs": [
    {
     "data": {
      "text/html": [
       "<div>\n",
       "<style scoped>\n",
       "    .dataframe tbody tr th:only-of-type {\n",
       "        vertical-align: middle;\n",
       "    }\n",
       "\n",
       "    .dataframe tbody tr th {\n",
       "        vertical-align: top;\n",
       "    }\n",
       "\n",
       "    .dataframe thead th {\n",
       "        text-align: right;\n",
       "    }\n",
       "</style>\n",
       "<table border=\"1\" class=\"dataframe\">\n",
       "  <thead>\n",
       "    <tr style=\"text-align: right;\">\n",
       "      <th></th>\n",
       "      <th>name</th>\n",
       "      <th>role</th>\n",
       "      <th>facial_features</th>\n",
       "    </tr>\n",
       "  </thead>\n",
       "  <tbody>\n",
       "    <tr>\n",
       "      <th>0</th>\n",
       "      <td>Angelina Jolie</td>\n",
       "      <td>Student</td>\n",
       "      <td>[0.19881923, 1.4748836, -0.097958915, -0.88050...</td>\n",
       "    </tr>\n",
       "    <tr>\n",
       "      <th>1</th>\n",
       "      <td>Barack Obama</td>\n",
       "      <td>Teacher</td>\n",
       "      <td>[-0.22177818, 1.5762168, -0.503078, 0.13601258...</td>\n",
       "    </tr>\n",
       "    <tr>\n",
       "      <th>2</th>\n",
       "      <td>Chris Evans</td>\n",
       "      <td>Student</td>\n",
       "      <td>[0.35691038, -0.4149104, 0.039218407, -0.15436...</td>\n",
       "    </tr>\n",
       "    <tr>\n",
       "      <th>3</th>\n",
       "      <td>Morgan Freeman</td>\n",
       "      <td>Teacher</td>\n",
       "      <td>[0.7627893, 0.89061487, 0.46873552, 0.2589808,...</td>\n",
       "    </tr>\n",
       "    <tr>\n",
       "      <th>4</th>\n",
       "      <td>Scarlett Johansson</td>\n",
       "      <td>Student</td>\n",
       "      <td>[-0.13535991, -0.28213844, -0.42700863, -0.282...</td>\n",
       "    </tr>\n",
       "  </tbody>\n",
       "</table>\n",
       "</div>"
      ],
      "text/plain": [
       "                 name     role   \n",
       "0      Angelina Jolie  Student  \\\n",
       "1        Barack Obama  Teacher   \n",
       "2         Chris Evans  Student   \n",
       "3      Morgan Freeman  Teacher   \n",
       "4  Scarlett Johansson  Student   \n",
       "\n",
       "                                     facial_features  \n",
       "0  [0.19881923, 1.4748836, -0.097958915, -0.88050...  \n",
       "1  [-0.22177818, 1.5762168, -0.503078, 0.13601258...  \n",
       "2  [0.35691038, -0.4149104, 0.039218407, -0.15436...  \n",
       "3  [0.7627893, 0.89061487, 0.46873552, 0.2589808,...  \n",
       "4  [-0.13535991, -0.28213844, -0.42700863, -0.282...  "
      ]
     },
     "execution_count": 82,
     "metadata": {},
     "output_type": "execute_result"
    }
   ],
   "source": [
    "pd.DataFrame(numpy_file['arr_0'],columns=numpy_file['arr_1'])"
   ]
  },
  {
   "cell_type": "code",
   "execution_count": null,
   "id": "143dc2f5",
   "metadata": {},
   "outputs": [],
   "source": []
  }
 ],
 "metadata": {
  "kernelspec": {
   "display_name": "Python 3 (ipykernel)",
   "language": "python",
   "name": "python3"
  },
  "language_info": {
   "codemirror_mode": {
    "name": "ipython",
    "version": 3
   },
   "file_extension": ".py",
   "mimetype": "text/x-python",
   "name": "python",
   "nbconvert_exporter": "python",
   "pygments_lexer": "ipython3",
   "version": "3.9.6"
  }
 },
 "nbformat": 4,
 "nbformat_minor": 5
}
